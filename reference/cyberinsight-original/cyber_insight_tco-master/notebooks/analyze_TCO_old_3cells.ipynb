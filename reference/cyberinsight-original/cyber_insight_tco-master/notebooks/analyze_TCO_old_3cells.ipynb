{
 "cells": [
  {
   "cell_type": "markdown",
   "metadata": {},
   "source": [
    "# Total Cost of Ownership (TCO) Analysis"
   ]
  },
  {
   "cell_type": "markdown",
   "metadata": {},
   "source": [
    "Last Updated on January 25, 2019"
   ]
  },
  {
   "cell_type": "markdown",
   "metadata": {},
   "source": [
    "### *** To start off, select the first cell with Python code below and then press Shift + Enter to run the cell. You can continue to press Shift + Enter as the selection moves forward to the next cell. "
   ]
  },
  {
   "cell_type": "markdown",
   "metadata": {},
   "source": [
    "## Step 1: Initialize"
   ]
  },
  {
   "cell_type": "code",
   "execution_count": null,
   "metadata": {},
   "outputs": [],
   "source": [
    "from IPython.display import display, HTML\n",
    "from ipywidgets import widgets, interactive, Layout\n",
    "import pandas as pd\n",
    "import qgrid\n",
    "\n",
    "import my_functions as my\n",
    "import my_DB_functions as myDB\n",
    "\n",
    "USER_ID = ! whoami\n",
    "USER_ID = USER_ID[0]\n",
    "\n",
    "records = myDB.get_avail_records(USER_ID)\n",
    "df = pd.DataFrame(records, columns=[\"ID\", \"UserID\", \"UploadTime\", \"Org\", \"System\", \"Description\", \"Type\", \n",
    "                                    \"DeployDate\", \"Measure\", \"X\", \"Y\", \"BenchmarkDate\",  \"Availability\"])\n",
    "df = df.set_index(\"ID\")\n",
    "df.Availability = df.Availability.apply(lambda x:\"Public\" if x == 1 else \"Private\")\n",
    "\n",
    "if len(df) == 0:\n",
    "    print(\"No available data found.\\nPlease upload your data first using manage_data.ipynb.\")"
   ]
  },
  {
   "cell_type": "markdown",
   "metadata": {},
   "source": [
    "## Step 2: Select records of interest"
   ]
  },
  {
   "cell_type": "code",
   "execution_count": null,
   "metadata": {
    "scrolled": true
   },
   "outputs": [],
   "source": [
    "print(\"Select one or more of the available records.\\n\"\n",
    "      + \"You can select multiple rows by pressing and holding the Ctrl key as you click a record.\")\n",
    "q = qgrid.show_grid(df.drop([\"UploadTime\"], axis=1))\n",
    "display(q)"
   ]
  },
  {
   "cell_type": "markdown",
   "metadata": {},
   "source": [
    "## Analyze TCO"
   ]
  },
  {
   "cell_type": "code",
   "execution_count": null,
   "metadata": {
    "scrolled": false
   },
   "outputs": [],
   "source": [
    "MAX_YEARS = 5\n",
    "\n",
    "if len(q.get_selected_rows()) == 0:\n",
    "    q.change_selection([1, 2, 3])\n",
    "\n",
    "record_id_list = sorted(q.get_selected_df().index)\n",
    "df_xy_list = []\n",
    "\n",
    "for record_id in record_id_list:\n",
    "    user_id = df[\"UserID\"][record_id]\n",
    "    ts = df[\"UploadTime\"][record_id]\n",
    "    org_name = df[\"Org\"][record_id]\n",
    "    sys_name = df[\"System\"][record_id]\n",
    "    sys_type = df[\"Type\"][record_id]\n",
    "    x = df[\"X\"][record_id]\n",
    "    y = df[\"Y\"][record_id]\n",
    "\n",
    "    records = myDB.get_selected_benchmark_records(user_id, ts)\n",
    "    df_xy = pd.DataFrame(records, columns=[\"x\", \"y\"])\n",
    "    df_xy_list.append(df_xy)\n",
    "\n",
    "###############################################################    \n",
    "    \n",
    "tco_widgets = {}\n",
    "\n",
    "style = {\"description_width\": '300px'}\n",
    "layout = Layout(width=\"45%\")\n",
    "\n",
    "for record_id in record_id_list:\n",
    "    user_id = df[\"UserID\"][record_id]\n",
    "    ts = df[\"UploadTime\"][record_id]\n",
    "    org_name = df[\"Org\"][record_id]\n",
    "    sys_name = df[\"System\"][record_id]\n",
    "    sys_type = df[\"Type\"][record_id]\n",
    "        \n",
    "    w_title = widgets.HTML(\n",
    "        value = \"<b>{} {} {}</b>\".format(org_name, sys_name, sys_type),\n",
    "        description = \"ID {}: \".format(record_id),\n",
    "        style = {\"description_width\": '50px'},\n",
    "        layout = layout\n",
    "    )\n",
    "    tco_widgets[\"{} title\".format(record_id)] = w_title\n",
    "    \n",
    "    cursor = myDB.get_tco_questions(sys_type)\n",
    "    cursor2 = myDB.get_tco_data(sys_type, user_id, ts)\n",
    "    \n",
    "    tco_values = list(cursor2)[0]\n",
    "    \n",
    "    for item, tco_value in zip(list(cursor), tco_values[3:]):\n",
    "        question = item[0]\n",
    "        variable_name = item[1]\n",
    "        unit = item[2]\n",
    "\n",
    "        w = widgets.FloatText(\n",
    "            description = \"{} {}\".format(question, \"\" if unit == \"\" else \"({})\".format(unit)),\n",
    "            value = tco_value,\n",
    "            layout = layout,\n",
    "            style = style\n",
    "        )\n",
    "        \n",
    "        tco_widgets[\"{} {}\".format(record_id, variable_name)] = w\n",
    "\n",
    "    w_degree = widgets.IntSlider(\n",
    "        value = 2,\n",
    "        min = 1,\n",
    "        max = 3,\n",
    "        step = 1,\n",
    "        description = \"Degree of Polynomial for Performance Scaling\".format(record_id),\n",
    "        layout = layout,\n",
    "        style = style\n",
    "    )\n",
    "\n",
    "    tco_widgets[\"{} degree\".format(record_id)] = w_degree\n",
    "\n",
    "w_br = widgets.HTML(\n",
    "    value = \"<br>\",\n",
    "    description = \" \"\n",
    ")\n",
    "tco_widgets[\"br\"] = w_br\n",
    "    \n",
    "style = {'description_width': '150px'}\n",
    "layout = Layout(width=\"70%\")\n",
    "\n",
    "w_years = widgets.IntSlider(\n",
    "    description = \"Life Span (Years)\",\n",
    "    min = 0,\n",
    "    max = MAX_YEARS,\n",
    "    step = 1,\n",
    "    value = 5,\n",
    "    style = style,\n",
    "    layout = layout\n",
    ")\n",
    "tco_widgets[\"years\"] = w_years\n",
    "\n",
    "w_util = widgets.IntSlider(\n",
    "    description = \"System Utilization (%)\",\n",
    "    min = 0,\n",
    "    max = 100,\n",
    "    step = 5,\n",
    "    value = 100,\n",
    "    style = style, \n",
    "    layout = layout\n",
    ")\n",
    "tco_widgets[\"util\"] = w_util\n",
    "\n",
    "def view(**tco_widgets):\n",
    "    params_all = {}\n",
    "    years = tco_widgets[\"years\"]\n",
    "    util = tco_widgets[\"util\"]\n",
    "    \n",
    "    for key in tco_widgets:\n",
    "        if key in [\"years\", \"util\", \"br\"]:\n",
    "            continue\n",
    "        \n",
    "        record_id, variable_name = key.split()\n",
    "        \n",
    "        assert int(record_id) in record_id_list\n",
    "        \n",
    "        if record_id not in params_all:\n",
    "            params_all[record_id] = dict()\n",
    "            \n",
    "        params_all[str(record_id)][variable_name] = tco_widgets[key]\n",
    "\n",
    "    for record_id in record_id_list:\n",
    "        params_all[str(record_id)][\"org_name\"] = df[\"Org\"][record_id] \n",
    "        params_all[str(record_id)][\"sys_name\"] = df[\"System\"][record_id]\n",
    "        params_all[str(record_id)][\"sys_type\"] = df[\"Type\"][record_id] \n",
    "\n",
    "    my.display_compare_TCO_new(years, util, df, record_id_list, df_xy_list, **params_all)\n",
    "\n",
    "i = interactive(view, **tco_widgets)\n",
    "display(i)"
   ]
  }
 ],
 "metadata": {
  "kernelspec": {
   "display_name": "Python 3",
   "language": "python",
   "name": "python3"
  },
  "language_info": {
   "codemirror_mode": {
    "name": "ipython",
    "version": 3
   },
   "file_extension": ".py",
   "mimetype": "text/x-python",
   "name": "python",
   "nbconvert_exporter": "python",
   "pygments_lexer": "ipython3",
   "version": "3.7.1"
  }
 },
 "nbformat": 4,
 "nbformat_minor": 2
}
