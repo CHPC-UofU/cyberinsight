{
 "cells": [
  {
   "cell_type": "markdown",
   "metadata": {},
   "source": [
    "# Total Cost of Ownership (TCO) Analysis"
   ]
  },
  {
   "cell_type": "markdown",
   "metadata": {},
   "source": [
    "Last Updated on January 25, 2019"
   ]
  },
  {
   "cell_type": "markdown",
   "metadata": {},
   "source": [
    "### *** To start off, select the first cell with Python code below and then press Shift + Enter to run the cell. You can continue to press Shift + Enter as the selection moves forward to the next cell. "
   ]
  },
  {
   "cell_type": "markdown",
   "metadata": {},
   "source": [
    "## Import modules"
   ]
  },
  {
   "cell_type": "code",
   "execution_count": null,
   "metadata": {},
   "outputs": [],
   "source": [
    "from datetime import datetime as dt\n",
    "from IPython.display import display, HTML\n",
    "from ipywidgets import widgets, interactive, Layout\n",
    "import numpy as np\n",
    "import pandas as pd\n",
    "import qgrid\n",
    "import my_functions as my\n",
    "import my_DB_functions as myDB\n",
    "\n",
    "pd.options.display.float_format = '{:,.2f}'.format"
   ]
  },
  {
   "cell_type": "markdown",
   "metadata": {},
   "source": [
    "## Define variables"
   ]
  },
  {
   "cell_type": "code",
   "execution_count": null,
   "metadata": {},
   "outputs": [],
   "source": [
    "USER_ID = ! whoami\n",
    "USER_ID = USER_ID[0]\n",
    "MAX_YEARS = 5"
   ]
  },
  {
   "cell_type": "markdown",
   "metadata": {},
   "source": [
    "## Step 1: Load available data"
   ]
  },
  {
   "cell_type": "code",
   "execution_count": null,
   "metadata": {},
   "outputs": [],
   "source": [
    "records = myDB.get_avail_records(USER_ID)\n",
    "df = pd.DataFrame(records, columns=[\"ID\", \"UserID\", \"UploadTime\", \"Org\", \"System\", \"Description\", \"Type\",\n",
    "                                    \"DeployDate\", \"Measure\", \"X\", \"Y\", \"BenchmarkDate\",  \"Availability\"])\n",
    "df = df.set_index(\"ID\")\n",
    "df.Availability = df.Availability.apply(lambda x:\"Public\" if x == 1 else \"Private\")\n",
    "\n",
    "if len(df) == 0:\n",
    "    my.print_title(\"No available data found.\", \"h3\")\n",
    "    my.print_title(\"Please input your data first by using manage_data.ipynb.\", \"h3\")"
   ]
  },
  {
   "cell_type": "markdown",
   "metadata": {},
   "source": [
    "## Step 2: Select records of interest\n",
    "### Notice that if you would want to input new data, use manage_data.ipynb. "
   ]
  },
  {
   "cell_type": "code",
   "execution_count": null,
   "metadata": {
    "scrolled": true
   },
   "outputs": [],
   "source": [
    "my.print_title(\"Select one or more of the available records.\" + \n",
    "               \"You can select multiple rows by pressing and holding the Ctrl key as you click a record.\", \"h3\")\n",
    "q = qgrid.show_grid(df.drop([\"UploadTime\"], axis=1))\n",
    "q"
   ]
  },
  {
   "cell_type": "markdown",
   "metadata": {},
   "source": [
    "## Display the selected records"
   ]
  },
  {
   "cell_type": "code",
   "execution_count": null,
   "metadata": {},
   "outputs": [],
   "source": [
    "my.print_title(\"Benchmark Data\", \"h2\")\n",
    "\n",
    "if len(q.get_selected_rows()) == 0:\n",
    "    q.change_selection([1, 2, 3])\n",
    "\n",
    "record_id_list = sorted(q.get_selected_df().index)\n",
    "df_xy_list = []\n",
    "\n",
    "for record_id in record_id_list:\n",
    "    user_id = df[\"UserID\"][record_id]\n",
    "    ts = df[\"UploadTime\"][record_id]\n",
    "    org_name = df[\"Org\"][record_id]\n",
    "    sys_name = df[\"System\"][record_id]\n",
    "    sys_type = df[\"Type\"][record_id]\n",
    "    x = df[\"X\"][record_id]\n",
    "    y = df[\"Y\"][record_id]\n",
    "\n",
    "    cursor = myDB.get_selected_benchmark_records(user_id, ts)\n",
    "    df_xy = pd.DataFrame(list(cursor), columns=[\"x\", \"y\"])\n",
    "    df_xy_list.append(df_xy)\n",
    "\n",
    "    my.print_title(\"{} {} {} (ID: {})\".format(org_name, sys_name, sys_type, record_id), \"h4\")\n",
    "    print(\"x: {}, y: {}\".format(x, y))\n",
    "    display(df_xy)"
   ]
  },
  {
   "cell_type": "markdown",
   "metadata": {},
   "source": [
    "## Step 3: Display the parameters for TCO calculation\n",
    "### Notice that you can edit the parameter values if you would want. The changes made here will not be saved. "
   ]
  },
  {
   "cell_type": "code",
   "execution_count": null,
   "metadata": {
    "scrolled": false
   },
   "outputs": [],
   "source": [
    "my.print_title(\"TCO Parameters\", \"h2\")\n",
    "\n",
    "widgets_list = []\n",
    "\n",
    "style = {\"description_width\": '300px'}\n",
    "\n",
    "for record_id in record_id_list:\n",
    "    user_id = df[\"UserID\"][record_id]\n",
    "    ts = df[\"UploadTime\"][record_id]\n",
    "    org_name = df[\"Org\"][record_id]\n",
    "    sys_name = df[\"System\"][record_id]\n",
    "    sys_type = df[\"Type\"][record_id]\n",
    "        \n",
    "    my.print_title(\"{} {} {} (ID {})\".format(org_name, sys_name, sys_type, record_id), \"h4\")\n",
    "    \n",
    "    cursor = myDB.get_tco_questions(sys_type)\n",
    "    cursor2 = myDB.get_tco_data(sys_type, user_id, ts)\n",
    "    \n",
    "    tco_values = list(cursor2)[0]\n",
    "    \n",
    "    tmp = {}\n",
    "    \n",
    "    for item, tco_value in zip(list(cursor), tco_values[3:]):\n",
    "        question = item[0]\n",
    "        variable_name = item[1]\n",
    "        unit = item[2]\n",
    "\n",
    "        w = widgets.FloatText(\n",
    "            description = \"{} {}\".format(question, \"\" if unit == \"\" else \"({})\".format(unit)),\n",
    "            value = tco_value,\n",
    "            layout = Layout(width=\"45%\"),\n",
    "            style = style\n",
    "        )\n",
    "        display(w)\n",
    "\n",
    "        tmp[variable_name] = w\n",
    "\n",
    "    widgets_list.append(tmp)"
   ]
  },
  {
   "cell_type": "code",
   "execution_count": null,
   "metadata": {},
   "outputs": [],
   "source": [
    "params_list = []\n",
    "\n",
    "for item, record_id in zip(widgets_list, record_id_list):\n",
    "    org_name = df[\"Org\"][record_id] \n",
    "    sys_name = df[\"System\"][record_id]\n",
    "    sys_type = df[\"Type\"][record_id] \n",
    "    \n",
    "    params = {}\n",
    "    params[\"org_name\"] = org_name\n",
    "    params[\"sys_name\"] = sys_name\n",
    "    params[\"sys_type\"] = sys_type\n",
    "    for key in item.keys():\n",
    "        w = item[key]\n",
    "        params[key] = w.value\n",
    "        \n",
    "    params_list.append(params)"
   ]
  },
  {
   "cell_type": "markdown",
   "metadata": {},
   "source": [
    "## Step 4: Display the performance scaling functions"
   ]
  },
  {
   "cell_type": "code",
   "execution_count": null,
   "metadata": {},
   "outputs": [],
   "source": [
    "my.print_title(\"Performance Scaling Functions\", \"h2\")\n",
    "\n",
    "style = {'description_width': '200px'}\n",
    "\n",
    "params = {}\n",
    "\n",
    "for record_id in record_id_list:\n",
    "    w_degree = widgets.IntSlider(\n",
    "        value = 2,\n",
    "        min = 1,\n",
    "        max = 3,\n",
    "        step = 1,\n",
    "        description = \"Degree of Polynomial for ID {}\".format(record_id),\n",
    "        layout = Layout(width=\"50%\"),\n",
    "        style = style\n",
    "    )\n",
    "    \n",
    "    params[\"degree_{}\".format(record_id)] = w_degree\n",
    "\n",
    "def view(**params):\n",
    "    display(HTML(\"<hr>\"))\n",
    "    my.display_multiple_scaling(df, record_id_list, df_xy_list, **params)\n",
    "\n",
    "interactive(view, **params)"
   ]
  },
  {
   "cell_type": "markdown",
   "metadata": {},
   "source": [
    "## Step 5: Analyze and compare TCOs"
   ]
  },
  {
   "cell_type": "code",
   "execution_count": null,
   "metadata": {
    "scrolled": false
   },
   "outputs": [],
   "source": [
    "print(\"\\n\")\n",
    "style = {'description_width': '150px'}\n",
    "layout = Layout(width=\"70%\")\n",
    "\n",
    "w_years = widgets.IntSlider(\n",
    "    description = \"Life Span (Years)\",\n",
    "    min = 0,\n",
    "    max = MAX_YEARS,\n",
    "    step = 1,\n",
    "    value = 5,\n",
    "    style = style,\n",
    "    layout = layout\n",
    ")\n",
    "\n",
    "w_sys_util = widgets.IntSlider(\n",
    "    description = \"System Utilization (%)\",\n",
    "    min = 0,\n",
    "    max = 100,\n",
    "    step = 5,\n",
    "    value = 100,\n",
    "    style = style, \n",
    "    layout = layout\n",
    ")\n",
    "\n",
    "nums_servers = {}\n",
    "for i in range(len(params_list)):\n",
    "    params = params_list[i]\n",
    "    \n",
    "    sys_type = params[\"sys_type\"]\n",
    "    sys_name = params[\"sys_name\"]\n",
    "    num_servers = params[\"instance_count\"] if sys_type == \"Cloud\" else params[\"node_count\"]\n",
    "    w_num_servers = widgets.IntText(\n",
    "        description = \"# of {} for {}\".format(\"Instances\" if sys_type == \"Cloud\" else \"Nodes\", sys_name),\n",
    "        value = num_servers,\n",
    "        layout = Layout(width=\"40%\"),\n",
    "        style = style\n",
    "    )\n",
    "    nums_servers[\"num_servers_{}\".format(i)] = w_num_servers\n",
    "    \n",
    "def view(years, util, **nums_servers):\n",
    "    my.display_compare_TCO(params_list, years, util, df, record_id_list, df_xy_list, **nums_servers)\n",
    "\n",
    "interactive(view, years=w_years, util=w_sys_util, **nums_servers)"
   ]
  }
 ],
 "metadata": {
  "kernelspec": {
   "display_name": "Python 3",
   "language": "python",
   "name": "python3"
  },
  "language_info": {
   "codemirror_mode": {
    "name": "ipython",
    "version": 3
   },
   "file_extension": ".py",
   "mimetype": "text/x-python",
   "name": "python",
   "nbconvert_exporter": "python",
   "pygments_lexer": "ipython3",
   "version": "3.7.1"
  }
 },
 "nbformat": 4,
 "nbformat_minor": 2
}
