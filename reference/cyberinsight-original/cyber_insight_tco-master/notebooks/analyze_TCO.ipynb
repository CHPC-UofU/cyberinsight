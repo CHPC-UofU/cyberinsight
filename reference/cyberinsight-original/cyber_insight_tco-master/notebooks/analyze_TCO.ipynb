{
 "cells": [
  {
   "cell_type": "markdown",
   "metadata": {},
   "source": [
    "# Total Cost of Ownership (TCO) Analysis"
   ]
  },
  {
   "cell_type": "markdown",
   "metadata": {},
   "source": [
    "Last Updated on January 25, 2019"
   ]
  },
  {
   "cell_type": "markdown",
   "metadata": {},
   "source": [
    "## Instructions"
   ]
  },
  {
   "cell_type": "markdown",
   "metadata": {},
   "source": [
    "1.       To begin, select the code cell below and run the cell by clicking the Run button in the tool bar above.\n",
    "2.       Select one or more of the available records of interest. (You can select multiple records by pressing and holding the Ctrl key as you click a row.)<br>\n",
    "     a.       If you would like to upload new data, return to the Jupyter Home page and open the manage_data.ipynb notebook.\n",
    "3.       Click the Analyze! button to perform TCO analysis.\n",
    "4.       Interactively change any of the parameters or adjust the sliders to explore TCO sensitivity for the selected records\n",
    "5.       To change the selection of records, there are two options:<br>\n",
    "     a.       Rerun the cell and select different records<br>\n",
    "     b.       Select new records to add to the existing analysis"
   ]
  },
  {
   "cell_type": "code",
   "execution_count": null,
   "metadata": {},
   "outputs": [],
   "source": [
    "from IPython.display import display\n",
    "from ipywidgets import widgets\n",
    "import pandas as pd\n",
    "import qgrid\n",
    "\n",
    "import my_functions as my\n",
    "import my_DB_functions as myDB\n",
    "\n",
    "USER_ID = ! whoami\n",
    "USER_ID = USER_ID[0]\n",
    "\n",
    "records = myDB.get_avail_records(USER_ID)\n",
    "df = pd.DataFrame(records, columns=[\"ID\", \"UserID\", \"UploadTime\", \"Org\", \"System\", \"Description\", \"Type\", \n",
    "                                    \"DeployDate\", \"Measure\", \"X\", \"Y\", \"BenchmarkDate\",  \"Availability\"])\n",
    "df = df.set_index(\"ID\")\n",
    "df.Availability = df.Availability.apply(lambda x:\"Public\" if x == 1 else \"Private\")\n",
    "\n",
    "if len(df) == 0:\n",
    "    my.print_title(\"No available data found.\\nPlease upload your data first using manage_data.ipynb.\", \"h3\")\n",
    "    \n",
    "q = qgrid.show_grid(df.drop([\"UploadTime\"], axis=1))\n",
    "display(q)\n",
    "\n",
    "w_click = widgets.Button(\n",
    "    description = 'Analyze!',\n",
    "    button_style = 'danger'\n",
    ")\n",
    "display(w_click)\n",
    "\n",
    "def analyze(clicked):\n",
    "    my.analyze_tco(q, df, USER_ID)\n",
    "\n",
    "w_click.on_click(analyze)"
   ]
  }
 ],
 "metadata": {
  "kernelspec": {
   "display_name": "Python 3",
   "language": "python",
   "name": "python3"
  },
  "language_info": {
   "codemirror_mode": {
    "name": "ipython",
    "version": 3
   },
   "file_extension": ".py",
   "mimetype": "text/x-python",
   "name": "python",
   "nbconvert_exporter": "python",
   "pygments_lexer": "ipython3",
   "version": "3.7.1"
  }
 },
 "nbformat": 4,
 "nbformat_minor": 2
}
