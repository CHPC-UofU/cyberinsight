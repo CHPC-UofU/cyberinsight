{
 "cells": [
  {
   "cell_type": "markdown",
   "metadata": {},
   "source": [
    "# Benchmark & TCO Data Management"
   ]
  },
  {
   "cell_type": "markdown",
   "metadata": {},
   "source": [
    "Last Updated on January 25, 2019"
   ]
  },
  {
   "cell_type": "markdown",
   "metadata": {},
   "source": [
    "# What you can do here:\n",
    "## <a href=#uploaddata>Upload data by reading from spreadsheets</a>\n",
    "## <a href=#exportdata>Export all available data as CSV files</a>"
   ]
  },
  {
   "cell_type": "markdown",
   "metadata": {},
   "source": [
    "<hr>"
   ]
  },
  {
   "cell_type": "markdown",
   "metadata": {},
   "source": [
    "<a name=\"uploaddata\" />"
   ]
  },
  {
   "cell_type": "markdown",
   "metadata": {},
   "source": [
    "# Uploading Data by Reading from Spreadsheets"
   ]
  },
  {
   "cell_type": "markdown",
   "metadata": {},
   "source": [
    "## Instructions"
   ]
  },
  {
   "cell_type": "markdown",
   "metadata": {},
   "source": [
    "1.       Return to the Jupyter Home page and find an Excel file named tco_template.xlsx.\n",
    "\n",
    "2.       Download the Excel file by checking the box before the filename and clicking the View button on the toolbar above.\n",
    "\n",
    "3.       Open the downloaded Excel file and enter your data, ensuring you follow all the instructions.\n",
    "\n",
    "4.       Save the Excel file once done.\n",
    "\n",
    "5.       Return to the Jupyter Home page and click the Upload button at the top right corner.\n",
    "\n",
    "6.       Select the Excel file you just created and replace the existing file with this file.\n",
    "\n",
    "7.       Return to the manage_data notebook.\n",
    "\n",
    "8.       Select the code cell below and run the cell by clicking the Run button in the toolbar above.\n",
    "\n",
    "9.       Double check if the spreadsheet names have been properly loaded. You can change them if needed.\n",
    "\n",
    "10.   Choose between keeping the data public (visible to other users) or keeping it private (visible only to you).\n",
    "\n",
    "11.   Click the Save! button to save the data in the database."
   ]
  },
  {
   "cell_type": "code",
   "execution_count": null,
   "metadata": {},
   "outputs": [],
   "source": [
    "from IPython.display import display\n",
    "from ipywidgets import widgets, Layout\n",
    "import pandas as pd\n",
    "import my_functions as my\n",
    "\n",
    "USER_ID = ! whoami\n",
    "USER_ID = USER_ID[0]\n",
    "EXCEL_FILE = \"tco_template.xlsx\"\n",
    "\n",
    "style = {'description_width': '125px'}\n",
    "layout = Layout(width=\"60%\")\n",
    "\n",
    "my.print_title(\"Spreadsheet names in the tco_template.xlsx file:\", \"h3\")\n",
    "print(\"- Each name should be enclosed by matching double quotes.\\n- Names should be separated by a comma.\")\n",
    "w_sheets = widgets.Text(\n",
    "    value = \"\\\"\" + \"\\\", \\\"\".join(pd.ExcelFile(EXCEL_FILE).sheet_names[:-1]) + \"\\\"\",\n",
    "    layout = layout,\n",
    "    style = style\n",
    ")\n",
    "display(w_sheets)\n",
    "\n",
    "w_is_public = widgets.ToggleButtons(\n",
    "    options = [\"Keep it public\", \"Keep it private\"],\n",
    "    value = \"Keep it private\",\n",
    ")\n",
    "display(w_is_public)\n",
    "\n",
    "w_save = widgets.Button(\n",
    "    description = 'Save!',\n",
    "    button_style = 'danger', # 'success', 'info', 'warning', 'danger' or ''\n",
    "    tooltip = 'Click me'\n",
    ")\n",
    "display(w_save)\n",
    "\n",
    "def save(clicked):\n",
    "    my.save_excel(USER_ID, EXCEL_FILE, w_sheets.value, w_is_public.value)\n",
    "\n",
    "w_save.on_click(save)"
   ]
  },
  {
   "cell_type": "markdown",
   "metadata": {},
   "source": [
    "<hr>"
   ]
  },
  {
   "cell_type": "markdown",
   "metadata": {},
   "source": [
    "<a name=\"exportdata\" />"
   ]
  },
  {
   "cell_type": "markdown",
   "metadata": {},
   "source": [
    "# Exporting All Available Data as CSV Files"
   ]
  },
  {
   "cell_type": "markdown",
   "metadata": {},
   "source": [
    "## Instructions"
   ]
  },
  {
   "cell_type": "markdown",
   "metadata": {},
   "source": [
    "1. Select the code cell below and run the cell by clicking the Run button in the tool bar above.\n",
    "2. A list of available data that has been uploaded by you or shared by other users will be displayed.\n",
    "3. Click the Export! button to export the data.\n",
    "4. Return to the Jupyter Home page and check if the CSVs directory has been created, which contains all of the exported CSV files."
   ]
  },
  {
   "cell_type": "code",
   "execution_count": null,
   "metadata": {
    "scrolled": false
   },
   "outputs": [],
   "source": [
    "from IPython.display import display\n",
    "from ipywidgets import widgets\n",
    "import pandas as pd\n",
    "import my_functions as my\n",
    "import my_DB_functions as myDB\n",
    "\n",
    "USER_ID = ! whoami\n",
    "USER_ID = USER_ID[0]\n",
    "\n",
    "records = myDB.get_avail_records(USER_ID)\n",
    "df = pd.DataFrame(records, columns=[\"ID\", \"UserID\", \"UploadTime\", \"Org\", \"System\", \"Description\", \"Type\", \n",
    "                                    \"DeployDate\", \"Measure\", \"X\", \"Y\", \"BenchmarkDate\",  \"Availability\"])\n",
    "df = df.set_index(\"ID\")\n",
    "df.Availability = df.Availability.apply(lambda x:\"Public\" if x == 1 else \"Private\")\n",
    "\n",
    "if len(df) == 0:\n",
    "    my.print_title(\"No available data found.\\nPlease upload your data first using manage_data.ipynb.\", \"h3\")\n",
    "\n",
    "display(df)\n",
    "\n",
    "w_save = widgets.Button(\n",
    "    description = 'Export!',\n",
    "    button_style = 'danger', # 'success', 'info', 'warning', 'danger' or ''\n",
    "    tooltip = 'Click me'\n",
    ")\n",
    "display(w_save)\n",
    "\n",
    "def save(clicked):\n",
    "    myDB.export_data(USER_ID)\n",
    "\n",
    "w_save.on_click(save)"
   ]
  }
 ],
 "metadata": {
  "kernelspec": {
   "display_name": "Python 3",
   "language": "python",
   "name": "python3"
  },
  "language_info": {
   "codemirror_mode": {
    "name": "ipython",
    "version": 3
   },
   "file_extension": ".py",
   "mimetype": "text/x-python",
   "name": "python",
   "nbconvert_exporter": "python",
   "pygments_lexer": "ipython3",
   "version": "3.7.1"
  }
 },
 "nbformat": 4,
 "nbformat_minor": 2
}
