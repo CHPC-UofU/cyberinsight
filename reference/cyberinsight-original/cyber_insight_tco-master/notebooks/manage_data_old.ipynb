{
 "cells": [
  {
   "cell_type": "markdown",
   "metadata": {},
   "source": [
    "# Benchmark & TCO Data Management"
   ]
  },
  {
   "cell_type": "markdown",
   "metadata": {},
   "source": [
    "Last Updated on January 25, 2019"
   ]
  },
  {
   "cell_type": "markdown",
   "metadata": {},
   "source": [
    "### *** To start off, select the first cell with Python code below and then press Shift + Enter to run the cell. You can continue to press Shift + Enter as the selection moves forward to the next cell. "
   ]
  },
  {
   "cell_type": "markdown",
   "metadata": {},
   "source": [
    "## Initialize"
   ]
  },
  {
   "cell_type": "code",
   "execution_count": null,
   "metadata": {
    "scrolled": true
   },
   "outputs": [],
   "source": [
    "from datetime import datetime as dt\n",
    "from IPython.display import display, HTML\n",
    "from ipywidgets import widgets, interactive, Layout\n",
    "import pandas as pd\n",
    "from xlrd import XLRDError\n",
    "\n",
    "import my_functions as my\n",
    "import my_DB_functions as myDB\n",
    "\n",
    "USER_ID = ! whoami\n",
    "USER_ID = USER_ID[0]"
   ]
  },
  {
   "cell_type": "markdown",
   "metadata": {},
   "source": [
    "# What you can do here:\n",
    "## <a href=#enterdata>Enter data interactively</a>\n",
    "## <a href=#uploaddata>Upload data by reading from spreadsheets</a>\n",
    "## <a href=#exportdata>Export all available data as CSV files</a>"
   ]
  },
  {
   "cell_type": "markdown",
   "metadata": {},
   "source": [
    "<hr>"
   ]
  },
  {
   "cell_type": "markdown",
   "metadata": {},
   "source": [
    "<a name=\"enterdata\" />"
   ]
  },
  {
   "cell_type": "markdown",
   "metadata": {},
   "source": [
    "# Entering Data Interactively"
   ]
  },
  {
   "cell_type": "markdown",
   "metadata": {},
   "source": [
    "## Step 1: Enter system information"
   ]
  },
  {
   "cell_type": "code",
   "execution_count": null,
   "metadata": {},
   "outputs": [],
   "source": [
    "my.print_title(\"Enter the information on your system.\", \"h3\")\n",
    "\n",
    "style = {'description_width': '125px'}\n",
    "layout = Layout(width=\"50%\")\n",
    "\n",
    "w_org_name = widgets.Text(\n",
    "    description='Organization Name:',\n",
    "    value = \"\",\n",
    "    layout = layout,\n",
    "    style = style\n",
    ")\n",
    "display(w_org_name)\n",
    "\n",
    "w_sys_name = widgets.Text(\n",
    "    description='System Name:',\n",
    "    value = \"\",\n",
    "    layout = layout,\n",
    "    style = style\n",
    ")\n",
    "display(w_sys_name)\n",
    "\n",
    "w_sys_desc = widgets.Textarea(\n",
    "    description = 'System Description:',\n",
    "    value = \"\",\n",
    "    layout = layout,\n",
    "    style = style\n",
    ")\n",
    "display(w_sys_desc)\n",
    "\n",
    "w_sys_type = widgets.ToggleButtons(\n",
    "    description = \"System Type:\",\n",
    "    options = [\"On-Premise\", \"Cloud\"],\n",
    "    value = \"On-Premise\",\n",
    "    layout = layout,\n",
    "    style = style\n",
    ")\n",
    "display(w_sys_type)"
   ]
  },
  {
   "cell_type": "markdown",
   "metadata": {},
   "source": [
    "## Step 2: Enter benchmark information\n",
    "### You can skip this step if you do not need. "
   ]
  },
  {
   "cell_type": "code",
   "execution_count": null,
   "metadata": {
    "scrolled": false
   },
   "outputs": [],
   "source": [
    "my.print_title(\"Would you like to enter the benchmark data for performance scaling?\", \"h3\")\n",
    "\n",
    "style = {'description_width': '125px'}\n",
    "layout = Layout(width=\"50%\")\n",
    "\n",
    "w_is_benchmark = widgets.ToggleButtons(\n",
    "    options = [\"Yes\", \"No\"],\n",
    "    value = \"Yes\",\n",
    "    layout = layout,\n",
    "    style = style\n",
    ")\n",
    "display(w_is_benchmark)\n",
    "\n",
    "my.print_title(\"Enter the information on your benchmark.\", \"h3\")\n",
    "\n",
    "style = {'description_width': '125px'}\n",
    "layout = Layout(width=\"50%\")\n",
    "\n",
    "w_measure_name = widgets.Text(\n",
    "    description = 'Measurement Name:',\n",
    "    value = \"\",\n",
    "    layout = layout,\n",
    "    style = style\n",
    ")\n",
    "display(w_measure_name)\n",
    "\n",
    "w_x_name = widgets.Text(\n",
    "    description = 'X Unit Name:',\n",
    "    value = \"\",\n",
    "    layout = layout,\n",
    "    style = style\n",
    ")\n",
    "display(w_x_name)\n",
    "\n",
    "w_y_name = widgets.Text(\n",
    "    description = 'Y Unit Name:',\n",
    "    value = \"\",\n",
    "    layout = layout,\n",
    "    style = style\n",
    ")\n",
    "display(w_y_name)\n",
    "\n",
    "w_num_pairs = widgets.Dropdown(\n",
    "    description = '# of (x, y) Pairs:',\n",
    "    value = 1,\n",
    "    options = [1, 2, 3, 4, 5],\n",
    "    layout = layout,\n",
    "    style = style\n",
    ")\n",
    "display(w_num_pairs)"
   ]
  },
  {
   "cell_type": "code",
   "execution_count": null,
   "metadata": {},
   "outputs": [],
   "source": [
    "my.print_title(\"Enter the benchmark data.\", \"h3\")\n",
    "print(\"X: {}\\nY: {}\\n\".format(w_x_name.value, w_y_name.value))\n",
    "print(\"You have indicated above that there is/are {} (x, y) pair(s).\".format(w_num_pairs.value))\n",
    "widgets_x, widgets_y = [], []\n",
    "\n",
    "layout = Layout(width=\"20%\")\n",
    "style = {'description_width': '20px'}\n",
    "\n",
    "for i in range(1, w_num_pairs.value + 1):\n",
    "    w_x = widgets.FloatText(\n",
    "        description = 'x{}:'.format(i),\n",
    "        # value = 1008 if w_sys_type.value == \"Cloud\" else 530,\n",
    "        layout = layout,\n",
    "        style = style\n",
    "    )\n",
    "    display(w_x)\n",
    "    widgets_x.append(w_x)\n",
    "    \n",
    "    w_y = widgets.FloatText(\n",
    "        description = 'y{}:'.format(i),\n",
    "        # value = 151.30 if w_sys_type.value == \"Cloud\" else 47.80,\n",
    "        layout = layout,\n",
    "        style = style\n",
    "    )\n",
    "    display(w_y)\n",
    "    widgets_y.append(w_y)"
   ]
  },
  {
   "cell_type": "markdown",
   "metadata": {},
   "source": [
    "## Step 3: Enter Total Cost of Ownership (TCO) information\n",
    "### You can skip this step if you do not need. "
   ]
  },
  {
   "cell_type": "code",
   "execution_count": null,
   "metadata": {},
   "outputs": [],
   "source": [
    "my.print_title(\"Would you like to enter the TCO information for TCO analysis?\", \"h3\")\n",
    "\n",
    "layout = Layout(width=\"50%\")\n",
    "style = {'description_width': '300px'}\n",
    "\n",
    "w_is_tco = widgets.ToggleButtons(\n",
    "    options = [\"Yes\", \"No\"],\n",
    "    value = \"Yes\",\n",
    "    layout = layout,\n",
    "    style = style\n",
    ")\n",
    "display(w_is_tco)\n",
    "\n",
    "my.print_title(\"Enter the TCO information.\", \"h3\")\n",
    "print(\"You have indicated above that your system is {}.\".format(w_sys_type.value.lower()))\n",
    "\n",
    "if w_sys_type.value == \"Cloud\":\n",
    "    w_instance_count = widgets.FloatText(\n",
    "        description = 'Instance Count:'.format(i),\n",
    "        # value = 1008,\n",
    "        layout = layout,\n",
    "        style = style\n",
    "    )\n",
    "    display(w_instance_count)\n",
    "    \n",
    "    w_hourly_instance_cost = widgets.FloatText(\n",
    "        description = 'HOURLY Instance Cost ($):'.format(i),\n",
    "        # value = 0.594,\n",
    "        layout = layout,\n",
    "        style = style\n",
    "    )\n",
    "    display(w_hourly_instance_cost)\n",
    "    \n",
    "    w_storage_requirement = widgets.FloatText(\n",
    "        description = 'Storage Requirement (GB):'.format(i),\n",
    "        # value = 150000,\n",
    "        layout = layout,\n",
    "        style = style\n",
    "    )\n",
    "    display(w_storage_requirement)\n",
    "    \n",
    "    w_monthly_storage_cost = widgets.FloatText(\n",
    "        description = 'MONTHLY Storage Cost per GB ($):'.format(i),\n",
    "        # value = 0.0236,\n",
    "        layout = layout,\n",
    "        style = style\n",
    "    )\n",
    "    display(w_monthly_storage_cost)\n",
    "    \n",
    "    w_monthly_network_transfer_cost = widgets.FloatText(\n",
    "        description = 'Expected MONTHLY Network Transfer Cost ($):'.format(i),\n",
    "        # value = 0,\n",
    "        layout = layout,\n",
    "        style = style\n",
    "    )\n",
    "    display(w_monthly_network_transfer_cost)\n",
    "\n",
    "else:\n",
    "    w_node_count = widgets.FloatText(\n",
    "        description = 'Node Count:'.format(i),\n",
    "        # value = 530,\n",
    "        layout = layout,\n",
    "        style = style\n",
    "    )\n",
    "    display(w_node_count)\n",
    "    \n",
    "    w_cost_per_node = widgets.FloatText(\n",
    "        description = 'Cost per Node ($):'.format(i),\n",
    "        # value = 5500,\n",
    "        layout = layout,\n",
    "        style = style\n",
    "    )\n",
    "    display(w_cost_per_node)\n",
    "    \n",
    "    w_rack_infra_cost = widgets.FloatText(\n",
    "        description = 'Rack Infrastructure Cost ($):'.format(i),\n",
    "        # value = 503000,\n",
    "        layout = layout,\n",
    "        style = style\n",
    "    )\n",
    "    display(w_rack_infra_cost)\n",
    "    \n",
    "    w_power_infra_cost = widgets.FloatText(\n",
    "        description = 'Power Infrastructure Cost ($):'.format(i),\n",
    "        # value = 50000,\n",
    "        layout = layout,\n",
    "        style = style\n",
    "    )\n",
    "    display(w_power_infra_cost)\n",
    "    \n",
    "    w_monthly_data_center_cost = widgets.FloatText(\n",
    "        description = 'MONTHLY Data Center Cost ($):'.format(i),\n",
    "        # value = 4166.67,\n",
    "        layout = layout,\n",
    "        style = style\n",
    "    )\n",
    "    display(w_monthly_data_center_cost)\n",
    "    \n",
    "    w_monthly_power = widgets.FloatText(\n",
    "        description = 'Expected MONTHLY Power (kW/h):'.format(i),\n",
    "        # value = 146000,     # 200 * 24 * 365 / 12\n",
    "        layout = layout,\n",
    "        style = style\n",
    "    )\n",
    "    display(w_monthly_power)\n",
    "    \n",
    "    w_power_cost = widgets.FloatText(\n",
    "        description = 'Power Cost per kW/h ($):'.format(i),\n",
    "        # value = 0.08,\n",
    "        layout = layout,\n",
    "        style = style\n",
    "    )\n",
    "    display(w_power_cost)\n",
    "    \n",
    "    \n",
    "w_personnel_setup_cost = widgets.FloatText(\n",
    "    description = 'Personnel Setup Cost ($):'.format(i),\n",
    "    # value = 50000 if w_sys_type.value == \"Cloud\" else 150000,\n",
    "    layout = layout,\n",
    "    style = style\n",
    ")\n",
    "display(w_personnel_setup_cost)\n",
    "\n",
    "w_monthly_personnel_cost = widgets.FloatText(\n",
    "    description = 'MONTHLY Personnel Cost ($):'.format(i),\n",
    "    # value = 16666.7 if w_sys_type.value == \"Cloud\" else 20833.3,\n",
    "    layout = layout,\n",
    "    style = style\n",
    ")\n",
    "display(w_monthly_personnel_cost)"
   ]
  },
  {
   "cell_type": "markdown",
   "metadata": {},
   "source": [
    "## Step 4: Save the data"
   ]
  },
  {
   "cell_type": "code",
   "execution_count": null,
   "metadata": {
    "scrolled": false
   },
   "outputs": [],
   "source": [
    "my.print_title(\"Would you like to save all the data in a database?\", \"h3\")\n",
    "\n",
    "w_is_public = widgets.ToggleButtons(\n",
    "    options = [\"Keep it public\", \"Keep it private\"],\n",
    "    value = \"Keep it private\",\n",
    ")\n",
    "display(w_is_public)\n",
    "\n",
    "w_save = widgets.Button(\n",
    "    description = 'Save!',\n",
    "    button_style = 'danger', # 'success', 'info', 'warning', 'danger' or ''\n",
    "    tooltip = 'Click me'\n",
    ")\n",
    "display(w_save)\n",
    "\n",
    "def save(clicked):\n",
    "    if w_is_public.value == \"Keep it public\":\n",
    "        is_public = 1\n",
    "    else:\n",
    "        is_public = 0\n",
    "        \n",
    "    ts = str(dt.now())\n",
    "    \n",
    "    params = {\"user_id\": USER_ID, \"ts\": ts, \"org_name\": w_org_name.value, \"sys_name\": w_sys_name.value, \n",
    "              \"sys_desc\": w_sys_desc.value, \"sys_type\": w_sys_type.value, \"is_public\": is_public,\n",
    "              \"is_benchmark\": w_is_benchmark.value, \"is_tco\": w_is_tco.value }\n",
    "    \n",
    "    if w_is_benchmark.value == \"Yes\":\n",
    "        params[\"measure_name\"] = w_measure_name.value\n",
    "        params[\"x_name\"] = w_x_name.value\n",
    "        params[\"y_name\"] = w_y_name.value\n",
    "        \n",
    "        x_list = [widget.value for widget in widgets_x]\n",
    "        y_list = [widget.value for widget in widgets_y]\n",
    "\n",
    "        params[\"x_list\"] = x_list\n",
    "        params[\"y_list\"] = y_list,\n",
    "    \n",
    "    if w_sys_type.value == \"Cloud\":\n",
    "        params[\"instance_count\"] = w_instance_count.value\n",
    "        params[\"hourly_instance_cost\"] = w_hourly_instance_cost.value\n",
    "        params[\"storage_requirement\"] = w_storage_requirement.value\n",
    "        params[\"monthly_storage_cost\"] = w_monthly_storage_cost.value\n",
    "        params[\"monthly_network_transfer_cost\"] = w_monthly_network_transfer_cost.value\n",
    "    else:\n",
    "        params[\"node_count\"] = w_node_count.value\n",
    "        params[\"cost_per_node\"] = w_cost_per_node.value\n",
    "        params[\"rack_infra_cost\"] = w_rack_infra_cost.value\n",
    "        params[\"power_infra_cost\"] = w_power_infra_cost.value\n",
    "        params[\"monthly_data_center_cost\"] = w_monthly_data_center_cost.value\n",
    "        params[\"monthly_power\"] = w_monthly_power.value\n",
    "        params[\"power_cost\"] = w_power_cost.value\n",
    "        \n",
    "    params[\"personnel_setup_cost\"] = w_personnel_setup_cost.value\n",
    "    params[\"monthly_personnel_cost\"] = w_monthly_personnel_cost.value\n",
    "    \n",
    "    myDB.save_data(**params)\n",
    "    print(\"Data saved at {}.\".format(ts))\n",
    "\n",
    "w_save.on_click(save)"
   ]
  },
  {
   "cell_type": "markdown",
   "metadata": {},
   "source": [
    "<hr>"
   ]
  },
  {
   "cell_type": "markdown",
   "metadata": {},
   "source": [
    "<a name=\"uploaddata\" />"
   ]
  },
  {
   "cell_type": "markdown",
   "metadata": {},
   "source": [
    "# Uploading Data by Reading from Spreadsheets\n",
    "### Skip this step if you have already saved the data in an interactive way. "
   ]
  },
  {
   "cell_type": "code",
   "execution_count": null,
   "metadata": {},
   "outputs": [],
   "source": [
    "style = {'description_width': '125px'}\n",
    "layout = Layout(width=\"60%\")\n",
    "\n",
    "my.print_title(\"Enter the name of your Excel file.\", \"h3\")\n",
    "print(\"- Notice that you must upload the Excel file onto your Jupyter Notebook home directory prior to this.\")\n",
    "print(\"- Find the Upload button at the top right corner of your Jupyter Notebook home directory.\")\n",
    "w_excel_file = widgets.Text(\n",
    "    value = \"tco_template.xlsx\",\n",
    "    layout = layout,\n",
    "    style = style\n",
    ")\n",
    "display(w_excel_file)\n",
    "\n",
    "my.print_title(\"Enter the names of the spreadsheets in the Excel file.\", \"h3\")\n",
    "print(\"- Each name should be enclosed by matching double quotes.\\n- Names should be separated by a comma.\")\n",
    "w_sheets = widgets.Text(\n",
    "    value = '\"Data\", \"Data2\", \"Data3\"',\n",
    "    layout = layout,\n",
    "    style = style\n",
    ")\n",
    "display(w_sheets)\n",
    "\n",
    "w_is_public = widgets.ToggleButtons(\n",
    "    options = [\"Keep it public\", \"Keep it private\"],\n",
    "    value = \"Keep it private\",\n",
    ")\n",
    "display(w_is_public)\n",
    "\n",
    "w_save = widgets.Button(\n",
    "    description = 'Save!',\n",
    "    button_style = 'danger', # 'success', 'info', 'warning', 'danger' or ''\n",
    "    tooltip = 'Click me'\n",
    ")\n",
    "display(w_save)\n",
    "\n",
    "def save(clicked):\n",
    "    my.save_excel(USER_ID, w_excel_file.value, w_sheets.value, w_is_public.value)\n",
    "\n",
    "w_save.on_click(save)"
   ]
  },
  {
   "cell_type": "markdown",
   "metadata": {},
   "source": [
    "<hr>"
   ]
  },
  {
   "cell_type": "markdown",
   "metadata": {},
   "source": [
    "<a name=\"exportdata\" />"
   ]
  },
  {
   "cell_type": "markdown",
   "metadata": {},
   "source": [
    "# Exporting All Available Data as CSV Files"
   ]
  },
  {
   "cell_type": "code",
   "execution_count": null,
   "metadata": {
    "scrolled": false
   },
   "outputs": [],
   "source": [
    "records = myDB.get_avail_records(USER_ID)\n",
    "df = pd.DataFrame(records, columns=[\"ID\", \"UserID\", \"UploadTime\", \"Org\", \"System\", \"Description\", \"Type\", \n",
    "                                    \"DeployDate\", \"Measure\", \"X\", \"Y\", \"BenchmarkDate\",  \"Availability\"])\n",
    "df = df.set_index(\"ID\")\n",
    "df.Availability = df.Availability.apply(lambda x:\"Public\" if x == 1 else \"Private\")\n",
    "\n",
    "if len(df) == 0:\n",
    "    my.print_title(\"No available data found.\", \"h3\")\n",
    "    my.print_title(\"Please input your data first by using manage_data.ipynb.\", \"h3\")\n",
    "\n",
    "my.print_title(\"Available data that was created by you or shared by others\", \"h3\")\n",
    "display(df)\n",
    "\n",
    "w_save = widgets.Button(\n",
    "    description = 'Export!',\n",
    "    button_style = 'danger', # 'success', 'info', 'warning', 'danger' or ''\n",
    "    tooltip = 'Click me'\n",
    ")\n",
    "display(w_save)\n",
    "\n",
    "def save(clicked):\n",
    "    myDB.export_data(USER_ID)\n",
    "\n",
    "w_save.on_click(save)"
   ]
  }
 ],
 "metadata": {
  "kernelspec": {
   "display_name": "Python 3",
   "language": "python",
   "name": "python3"
  },
  "language_info": {
   "codemirror_mode": {
    "name": "ipython",
    "version": 3
   },
   "file_extension": ".py",
   "mimetype": "text/x-python",
   "name": "python",
   "nbconvert_exporter": "python",
   "pygments_lexer": "ipython3",
   "version": "3.7.1"
  }
 },
 "nbformat": 4,
 "nbformat_minor": 2
}
