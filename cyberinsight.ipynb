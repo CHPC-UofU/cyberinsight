{
 "cells": [
  {
   "cell_type": "markdown",
   "metadata": {},
   "source": [
    "***\n",
    "# CYBER-INSIGHT: Evaluating Cyberinfrastructure Total Cost of Ownership\n",
    "\n",
    "## TCO Analysis Tool\n",
    "\n",
    "***\n",
    "\n",
    "## Quick navigation\n",
    "\n",
    "1. [Import](#import)\n",
    "2. [Create & edit](#edit)\n",
    "3. [Analyze & visualize](#viz)\n",
    "4. [Export](#export)\n",
    "5. [About the project](#about)\n",
    "\n",
    "***\n",
    "\n",
    "## Introduction\n",
    "\n",
    "To begin using this tool, run the cell below by selecting the cell and pressing the `Shift` + `Enter` keys simultaneously, or selecting the cell and via top toolbar `Cell` -> `Run Cells`. There may also be a small \"play\" button to the left of each cell, which may be used.\n",
    "\n",
    "Alternatively, you can select `Kernel` -> `Restart & Run All` in the toolbar to immediately load all widgets.\n",
    "\n",
    "All widgets can be safely (re)loaded at any time by rerunning the code cell above the widget, as long as the first cell below this text has been run."
   ]
  },
  {
   "cell_type": "code",
   "execution_count": null,
   "metadata": {},
   "outputs": [],
   "source": [
    "#\n",
    "# Run me first!\n",
    "#\n",
    "\n",
    "%matplotlib inline\n",
    "from matplotlib import pyplot as plt\n",
    "from hpc_tco_libraries import model, jupyter_gui\n",
    "from importlib import reload\n",
    "\n",
    "init = False\n",
    "if not init:\n",
    "    plt.rcParams['figure.figsize'] = [12, 8]\n",
    "    plt.rcParams['figure.dpi'] = 100\n",
    "    data = {\"data\": dict()}\n",
    "    init = True"
   ]
  },
  {
   "cell_type": "markdown",
   "metadata": {},
   "source": [
    "***\n",
    "## Module 1 - Import TCO datasets <a name=\"import\"></a>\n",
    "\n",
    "This is an optional module--you may skip to Module 2 if there is no existing TCO data to import. Alternatively, use this module to load the example dataset (`uofu-chpc-hpcg.json`).\n",
    "\n",
    "1. Run the cell to reload the widget.\n",
    "\n",
    "2. Select a valid JSON file from the file tree.\n",
    "\n",
    "3. Click **Select**.\n",
    "\n",
    "4. If the selected file is valid, click **Import** to finalize the import. Otherwise, errors will be documented below."
   ]
  },
  {
   "cell_type": "code",
   "execution_count": null,
   "metadata": {
    "scrolled": true
   },
   "outputs": [],
   "source": [
    "jupyter_gui.Importer(data).display()"
   ]
  },
  {
   "cell_type": "markdown",
   "metadata": {},
   "source": [
    "***\n",
    "## Module 2 - Create and edit HPC TCO data <a name=\"edit\"></a>\n",
    "\n",
    "1. Run the cell to reload the widget.\n",
    "\n",
    "2. Select an entry and click **Load**. \n",
    "    \n",
    "3. Edit the fields (see **Notes** below)\n",
    "\n",
    "4. (Optional) Change the resource name in the field above **Save**.\n",
    "\n",
    "5. Click **Save** (see final note below).\n",
    "\n",
    "\n",
    "\n",
    "#### Notes\n",
    "\n",
    "* Make sure to press the `Enter` key after editing an entry to confirm the change. Entries that have been edited but *not* confirmed will be surrounded with a yellow border. Press `Enter` in the cell to clear the warning.\n",
    "\n",
    "* Cost values may be numeric or symbolic formulas. For example, an entry may have the value `8.21` or `{costA} + 2*{costB}`. In the latter case, after pressing `Enter`, two new child entries will be created with the names `costA` and `costB` respectively.\n",
    "\n",
    "* Pressing **Save** will only save the changes to memory. To make changes *persistent*, make sure to **[Export](#export)** the resources to a file using the appropriate widget."
   ]
  },
  {
   "cell_type": "code",
   "execution_count": null,
   "metadata": {
    "scrolled": false
   },
   "outputs": [],
   "source": [
    "jupyter_gui.Form(data).display()"
   ]
  },
  {
   "cell_type": "markdown",
   "metadata": {},
   "source": [
    "***\n",
    "## Module 3 - Analyze TCO data <a name=\"viz\"></a>\n",
    "\n",
    "1. Run the cell to reload the widget.\n",
    "\n",
    "2. Select any number of benchmarks to compare.\n",
    "\n",
    "3. Click **Compare**.\n",
    "\n",
    "4. (Optional) Enter a filename and click **Save** to export the image.\n",
    "\n",
    "Exported files will be created in the `exports` subdirectory, which can be downloaded to your local computer from the Jupyter directory view (click the `jupyter` logo in the top left to view these files)."
   ]
  },
  {
   "cell_type": "code",
   "execution_count": null,
   "metadata": {},
   "outputs": [],
   "source": [
    "jupyter_gui.ChartViewer(data).display()"
   ]
  },
  {
   "cell_type": "markdown",
   "metadata": {},
   "source": [
    "***\n",
    "## Module 4 - Export TCO results <a name=\"export\"></a>\n",
    "1. Run the cell to reload the widget.\n",
    "\n",
    "2. Select any number of resources to export in a single file.\n",
    "\n",
    "3. Enter a filename.\n",
    "\n",
    "4. Click **Export**\n",
    "\n",
    "Exported files will be created in the `exports` subdirectory, which can be downloaded to your local computer from the Jupyter directory view (click the `jupyter` logo in the top left to view these files)."
   ]
  },
  {
   "cell_type": "code",
   "execution_count": null,
   "metadata": {
    "scrolled": false
   },
   "outputs": [],
   "source": [
    "jupyter_gui.Exporter(data).display()"
   ]
  },
  {
   "cell_type": "markdown",
   "metadata": {},
   "source": [
    "***\n",
    "## Sandbox\n",
    "\n",
    "For advanced Python users."
   ]
  },
  {
   "cell_type": "code",
   "execution_count": null,
   "metadata": {},
   "outputs": [],
   "source": [
    "# Execute custom code here\n",
    "data"
   ]
  },
  {
   "cell_type": "markdown",
   "metadata": {},
   "source": [
    "***\n",
    "## About CYBER-INSIGHT<a name=\"about\"></a>\n",
    "\n",
    "[NSF Award #1812786](https://www.nsf.gov/awardsearch/showAward?AWD_ID=1812786)\n"
   ]
  }
 ],
 "metadata": {
  "kernelspec": {
   "display_name": "Python 3",
   "language": "python",
   "name": "python3"
  },
  "language_info": {
   "codemirror_mode": {
    "name": "ipython",
    "version": 3
   },
   "file_extension": ".py",
   "mimetype": "text/x-python",
   "name": "python",
   "nbconvert_exporter": "python",
   "pygments_lexer": "ipython3",
   "version": "3.7.6"
  }
 },
 "nbformat": 4,
 "nbformat_minor": 2
}
